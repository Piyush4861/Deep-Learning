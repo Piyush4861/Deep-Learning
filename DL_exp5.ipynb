{
  "nbformat": 4,
  "nbformat_minor": 0,
  "metadata": {
    "colab": {
      "provenance": []
    },
    "kernelspec": {
      "name": "python3",
      "display_name": "Python 3"
    },
    "language_info": {
      "name": "python"
    }
  },
  "cells": [
    {
      "cell_type": "code",
      "source": [
        "import matplotlib.pyplot as plt\n",
        "import seaborn as sns\n",
        "import matplotlib as mpl\n",
        "import matplotlib.pylab as pylab\n",
        "import numpy as np\n",
        "%matplotlib inline"
      ],
      "metadata": {
        "id": "Ph2N95_Hj21U"
      },
      "execution_count": null,
      "outputs": []
    },
    {
      "cell_type": "code",
      "source": [
        "#Data Prepration\n",
        "import re"
      ],
      "metadata": {
        "id": "_NXkdH1Aj5Zg"
      },
      "execution_count": null,
      "outputs": []
    },
    {
      "cell_type": "code",
      "source": [
        "sentences = \"\"\"We are about to study the idea of a computational process.\n",
        "Computational processes are abstract beings that inhabit computers.\n",
        "As they evolve, processes manipulate other abstract things called data.\n",
        "The evolution of a process is directed by a pattern of rules\n",
        "called a program. People create programs to direct processes. In effect,\n",
        "we conjure the spirits of the computer with our spells.\"\"\""
      ],
      "metadata": {
        "id": "Przq9Bmcj68b"
      },
      "execution_count": null,
      "outputs": []
    },
    {
      "cell_type": "code",
      "source": [
        "# remove special characters\n",
        "sentences = re.sub('[^A-Za-z0-9]+', ' ', sentences)\n",
        "\n",
        "# remove 1 letter words\n",
        "sentences = re.sub(r'(?:^| )\\w(?:$| )', ' ', sentences).strip()\n",
        "\n",
        "# lower all characters\n",
        "sentences = sentences.lower()"
      ],
      "metadata": {
        "id": "OxCmTU4pj8fY"
      },
      "execution_count": null,
      "outputs": []
    },
    {
      "cell_type": "code",
      "source": [
        "words = sentences.split()\n",
        "vocab = set(words)"
      ],
      "metadata": {
        "id": "jUul5L9cj95H"
      },
      "execution_count": null,
      "outputs": []
    },
    {
      "cell_type": "code",
      "source": [
        "vocab_size = len(vocab)\n",
        "embed_dim = 10\n",
        "context_size = 2"
      ],
      "metadata": {
        "id": "Kc7Cp24wj_Ro"
      },
      "execution_count": null,
      "outputs": []
    },
    {
      "cell_type": "code",
      "source": [
        "word_to_ix = {word: i for i, word in enumerate(vocab)}\n",
        "ix_to_word = {i: word for i, word in enumerate(vocab)}"
      ],
      "metadata": {
        "id": "6RUsT2y9kAwV"
      },
      "execution_count": null,
      "outputs": []
    },
    {
      "cell_type": "code",
      "source": [
        "# data - [(context), target]\n",
        "\n",
        "data = []\n",
        "for i in range(2, len(words) - 2):\n",
        "    context = [words[i - 2], words[i - 1], words[i + 1], words[i + 2]]\n",
        "    target = words[i]\n",
        "    data.append((context, target))\n",
        "print(data[:5])"
      ],
      "metadata": {
        "colab": {
          "base_uri": "https://localhost:8080/"
        },
        "id": "eSsX9KwkkCKv",
        "outputId": "9726658b-dcf5-48e6-d129-d31167746dfd"
      },
      "execution_count": null,
      "outputs": [
        {
          "output_type": "stream",
          "name": "stdout",
          "text": [
            "[(['we', 'are', 'to', 'study'], 'about'), (['are', 'about', 'study', 'the'], 'to'), (['about', 'to', 'the', 'idea'], 'study'), (['to', 'study', 'idea', 'of'], 'the'), (['study', 'the', 'of', 'computational'], 'idea')]\n"
          ]
        }
      ]
    },
    {
      "cell_type": "code",
      "source": [
        "embeddings =  np.random.random_sample((vocab_size, embed_dim))"
      ],
      "metadata": {
        "id": "ALw3p7wQkDh1"
      },
      "execution_count": null,
      "outputs": []
    },
    {
      "cell_type": "code",
      "source": [
        "def linear(m, theta):\n",
        "    w = theta\n",
        "    return m.dot(w)"
      ],
      "metadata": {
        "id": "WUA-yg92kE2y"
      },
      "execution_count": null,
      "outputs": []
    },
    {
      "cell_type": "code",
      "source": [
        "def log_softmax(x):\n",
        "    e_x = np.exp(x - np.max(x))\n",
        "    return np.log(e_x / e_x.sum())"
      ],
      "metadata": {
        "id": "QjUtNkrekGXo"
      },
      "execution_count": null,
      "outputs": []
    },
    {
      "cell_type": "code",
      "source": [
        "def NLLLoss(logs, targets):\n",
        "    out = logs[range(len(targets)), targets]\n",
        "    return -out.sum()/len(out)"
      ],
      "metadata": {
        "id": "5zQOhuxzkH9e"
      },
      "execution_count": null,
      "outputs": []
    },
    {
      "cell_type": "code",
      "source": [
        "def log_softmax_crossentropy_with_logits(logits,target):\n",
        "\n",
        "    out = np.zeros_like(logits)\n",
        "    out[np.arange(len(logits)),target] = 1\n",
        "    \n",
        "    softmax = np.exp(logits) / np.exp(logits).sum(axis=-1,keepdims=True)\n",
        "    \n",
        "    return (- out + softmax) / logits.shape[0]"
      ],
      "metadata": {
        "id": "iXOPmCxPkJYF"
      },
      "execution_count": null,
      "outputs": []
    },
    {
      "cell_type": "code",
      "source": [
        "def forward(context_idxs, theta):\n",
        "    m = embeddings[context_idxs].reshape(1, -1)\n",
        "    n = linear(m, theta)\n",
        "    o = log_softmax(n)\n",
        "    \n",
        "    return m, n, o"
      ],
      "metadata": {
        "id": "KJ-cLmDukKpT"
      },
      "execution_count": null,
      "outputs": []
    },
    {
      "cell_type": "code",
      "source": [
        "def backward(preds, theta, target_idxs):\n",
        "    m, n, o = preds\n",
        "    \n",
        "    dlog = log_softmax_crossentropy_with_logits(n, target_idxs)\n",
        "    dw = m.T.dot(dlog)\n",
        "    \n",
        "    return dw"
      ],
      "metadata": {
        "id": "BEC04MngkL7K"
      },
      "execution_count": null,
      "outputs": []
    },
    {
      "cell_type": "code",
      "source": [
        "def optimize(theta, grad, lr=0.03):\n",
        "    theta -= grad * lr\n",
        "    return theta"
      ],
      "metadata": {
        "id": "ayNf7BV6kNIV"
      },
      "execution_count": null,
      "outputs": []
    },
    {
      "cell_type": "code",
      "source": [
        "#Genrate training data\n",
        "\n",
        "theta = np.random.uniform(-1, 1, (2 * context_size * embed_dim, vocab_size))"
      ],
      "metadata": {
        "id": "Cvz6tZSvkOi-"
      },
      "execution_count": null,
      "outputs": []
    },
    {
      "cell_type": "code",
      "source": [
        "epoch_losses = {}\n",
        "\n",
        "for epoch in range(80):\n",
        "\n",
        "    losses =  []\n",
        "\n",
        "    for context, target in data:\n",
        "        context_idxs = np.array([word_to_ix[w] for w in context])\n",
        "        preds = forward(context_idxs, theta)\n",
        "\n",
        "        target_idxs = np.array([word_to_ix[target]])\n",
        "        loss = NLLLoss(preds[-1], target_idxs)\n",
        "\n",
        "        losses.append(loss)\n",
        "\n",
        "        grad = backward(preds, theta, target_idxs)\n",
        "        theta = optimize(theta, grad, lr=0.03)\n",
        "        \n",
        "     \n",
        "    epoch_losses[epoch] = losses"
      ],
      "metadata": {
        "id": "nj29iCqWkQAp"
      },
      "execution_count": null,
      "outputs": []
    },
    {
      "cell_type": "code",
      "source": [
        "ix = np.arange(0,80)\n",
        "\n",
        "fig = plt.figure()\n",
        "fig.suptitle('Epoch/Losses', fontsize=20)\n",
        "plt.plot(ix,[epoch_losses[i][0] for i in ix])\n",
        "plt.xlabel('Epochs', fontsize=12)\n",
        "plt.ylabel('Losses', fontsize=12)"
      ],
      "metadata": {
        "colab": {
          "base_uri": "https://localhost:8080/",
          "height": 328
        },
        "id": "UgWCTRILkRzO",
        "outputId": "88de364f-3811-4d1f-fdea-bf5473d2485b"
      },
      "execution_count": null,
      "outputs": [
        {
          "output_type": "execute_result",
          "data": {
            "text/plain": [
              "Text(0, 0.5, 'Losses')"
            ]
          },
          "metadata": {},
          "execution_count": 19
        },
        {
          "output_type": "display_data",
          "data": {
            "text/plain": [
              "<Figure size 432x288 with 1 Axes>"
            ],
            "image/png": "[encoded data removed]"
          },
          "metadata": {
            "needs_background": "light"
          }
        }
      ]
    },
    {
      "cell_type": "code",
      "source": [
        "def predict(words):\n",
        "    context_idxs = np.array([word_to_ix[w] for w in words])\n",
        "    preds = forward(context_idxs, theta)\n",
        "    word = ix_to_word[np.argmax(preds[-1])]\n",
        "    \n",
        "    return word"
      ],
      "metadata": {
        "id": "qECvdJTCkTaB"
      },
      "execution_count": null,
      "outputs": []
    },
    {
      "cell_type": "code",
      "source": [
        "# (['we', 'are', 'to', 'study'], 'about')\n",
        "predict(['we', 'are', 'to', 'study'])"
      ],
      "metadata": {
        "colab": {
          "base_uri": "https://localhost:8080/",
          "height": 36
        },
        "id": "rDwYqlnYkUsO",
        "outputId": "5eadc567-7ef7-446c-a31f-c72f79cb24d0"
      },
      "execution_count": null,
      "outputs": [
        {
          "output_type": "execute_result",
          "data": {
            "text/plain": [
              "'about'"
            ],
            "application/vnd.google.colaboratory.intrinsic+json": {
              "type": "string"
            }
          },
          "metadata": {},
          "execution_count": 21
        }
      ]
    },
    {
      "cell_type": "code",
      "source": [
        "def accuracy():\n",
        "    wrong = 0\n",
        "\n",
        "    for context, target in data:\n",
        "        if(predict(context) != target):\n",
        "            wrong += 1\n",
        "            \n",
        "    return (1 - (wrong / len(data)))"
      ],
      "metadata": {
        "id": "7aaoe3jQkWCj"
      },
      "execution_count": null,
      "outputs": []
    },
    {
      "cell_type": "code",
      "source": [
        "accuracy()"
      ],
      "metadata": {
        "colab": {
          "base_uri": "https://localhost:8080/"
        },
        "id": "vqd100T9kXVp",
        "outputId": "7bc45bf2-4aac-4e53-fa2d-61ba06de5935"
      },
      "execution_count": null,
      "outputs": [
        {
          "output_type": "execute_result",
          "data": {
            "text/plain": [
              "1.0"
            ]
          },
          "metadata": {},
          "execution_count": 23
        }
      ]
    },
    {
      "cell_type": "code",
      "source": [
        "predict(['processes', 'manipulate', 'things', 'study'])"
      ],
      "metadata": {
        "colab": {
          "base_uri": "https://localhost:8080/",
          "height": 36
        },
        "id": "GemHUAyfkYpq",
        "outputId": "5b41460b-af87-46fb-aebe-2329f79c01e4"
      },
      "execution_count": null,
      "outputs": [
        {
          "output_type": "execute_result",
          "data": {
            "text/plain": [
              "'effect'"
            ],
            "application/vnd.google.colaboratory.intrinsic+json": {
              "type": "string"
            }
          },
          "metadata": {},
          "execution_count": 24
        }
      ]
    }
  ]
}